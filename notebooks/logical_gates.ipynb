{
 "cells": [
  {
   "cell_type": "code",
   "execution_count": 194,
   "outputs": [],
   "source": [
    "%reload_ext autoreload\n",
    "%autoreload 2\n",
    "\n",
    "\n",
    "import pandas as pd\n",
    "from src.nuclei.anneal import BaseAnneal\n",
    "from src.nuclei.nucleus import BaseNucleus1B, BaseNucleus\n",
    "from src.nuclei.losses import CrossEntropy, MAE\n",
    "from src.nuclei.activations import Sigmoid, Binary, Relu"
   ],
   "metadata": {
    "collapsed": false,
    "pycharm": {
     "name": "#%%\n"
    }
   }
  },
  {
   "cell_type": "code",
   "execution_count": 195,
   "outputs": [],
   "source": [
    "stimuli = {\n",
    "    'x': [[0, 0], [0, 1], [1, 0], [1, 1]],\n",
    "    # 'y': [0, 0, 0, 1]  # AND\n",
    "    # 'y': [0, 1, 1, 1]  # OR\n",
    "    'y': [0, 1, 1, 0]  # XOR,\n",
    "}\n",
    "\n",
    "# XOR [-2, -1, -1, 1, 9, 0, 1, 0, 9]\n",
    "# AND [1, 0, 0, 0, 9, 0, 0, 0, 9]\n",
    "# OR [0, -1, -1, 1, 9, 0, 1, 0, 9]"
   ],
   "metadata": {
    "collapsed": false,
    "pycharm": {
     "name": "#%%\n"
    }
   }
  },
  {
   "cell_type": "code",
   "execution_count": 196,
   "outputs": [],
   "source": [
    "n = BaseNucleus(input_size=2, lr=0.05, activation=Sigmoid())\n",
    "temp = 1\n",
    "anneal = BaseAnneal(n, temp, steps=500, epochs=5, loss_func=CrossEntropy())"
   ],
   "metadata": {
    "collapsed": false,
    "pycharm": {
     "name": "#%%\n"
    }
   }
  },
  {
   "cell_type": "code",
   "execution_count": 197,
   "outputs": [
    {
     "name": "stdout",
     "output_type": "stream",
     "text": [
      "Epoch: 1\n"
     ]
    },
    {
     "name": "stderr",
     "output_type": "stream",
     "text": [
      "training in epoch 1:   0%|          | 0/500 [00:00<?, ?it/s]\n"
     ]
    },
    {
     "ename": "ValueError",
     "evalue": "operands could not be broadcast together with shapes (4,) (4,10) ",
     "output_type": "error",
     "traceback": [
      "\u001B[0;31m---------------------------------------------------------------------------\u001B[0m",
      "\u001B[0;31mValueError\u001B[0m                                Traceback (most recent call last)",
      "Cell \u001B[0;32mIn[197], line 1\u001B[0m\n\u001B[0;32m----> 1\u001B[0m best, loss \u001B[38;5;241m=\u001B[39m \u001B[43manneal\u001B[49m\u001B[38;5;241;43m.\u001B[39;49m\u001B[43mstimulate\u001B[49m\u001B[43m(\u001B[49m\u001B[43mstimuli\u001B[49m\u001B[43m)\u001B[49m\n\u001B[1;32m      2\u001B[0m pd\u001B[38;5;241m.\u001B[39mSeries(loss)\u001B[38;5;241m.\u001B[39mplot()\n",
      "File \u001B[0;32m~/Git/nuclei/src/nuclei/anneal.py:72\u001B[0m, in \u001B[0;36mLongAnneal.stimulate\u001B[0;34m(self, stimuli, verbose)\u001B[0m\n\u001B[1;32m     70\u001B[0m \u001B[38;5;28;01mfor\u001B[39;00m _ \u001B[38;5;129;01min\u001B[39;00m tqdm(\u001B[38;5;28mself\u001B[39m\u001B[38;5;241m.\u001B[39msteps, desc\u001B[38;5;241m=\u001B[39m\u001B[38;5;124mf\u001B[39m\u001B[38;5;124m'\u001B[39m\u001B[38;5;124mtraining in epoch \u001B[39m\u001B[38;5;132;01m{\u001B[39;00me\u001B[38;5;250m \u001B[39m\u001B[38;5;241m+\u001B[39m\u001B[38;5;250m \u001B[39m\u001B[38;5;241m1\u001B[39m\u001B[38;5;132;01m}\u001B[39;00m\u001B[38;5;124m'\u001B[39m):\n\u001B[1;32m     71\u001B[0m     b \u001B[38;5;241m=\u001B[39m generate_long_solution(best)\n\u001B[0;32m---> 72\u001B[0m     best, cost \u001B[38;5;241m=\u001B[39m \u001B[43mcompare_energies\u001B[49m\u001B[43m(\u001B[49m\u001B[43mbest\u001B[49m\u001B[43m,\u001B[49m\u001B[43m \u001B[49m\u001B[43mb\u001B[49m\u001B[43m,\u001B[49m\u001B[43m \u001B[49m\u001B[43mstimuli\u001B[49m\u001B[43m[\u001B[49m\u001B[38;5;124;43m'\u001B[39;49m\u001B[38;5;124;43mx\u001B[39;49m\u001B[38;5;124;43m'\u001B[39;49m\u001B[43m]\u001B[49m\u001B[43m,\u001B[49m\u001B[43m \u001B[49m\u001B[43mstimuli\u001B[49m\u001B[43m[\u001B[49m\u001B[38;5;124;43m'\u001B[39;49m\u001B[38;5;124;43my\u001B[39;49m\u001B[38;5;124;43m'\u001B[39;49m\u001B[43m]\u001B[49m\u001B[43m,\u001B[49m\u001B[43m \u001B[49m\u001B[38;5;28;43mself\u001B[39;49m\u001B[38;5;241;43m.\u001B[39;49m\u001B[43mloss\u001B[49m\u001B[43m,\u001B[49m\u001B[43m \u001B[49m\u001B[38;5;28;43mself\u001B[39;49m\u001B[38;5;241;43m.\u001B[39;49m\u001B[43mtemp\u001B[49m\u001B[43m,\u001B[49m\u001B[43m \u001B[49m\u001B[43mverbose\u001B[49m\u001B[43m)\u001B[49m\n\u001B[1;32m     73\u001B[0m     losses\u001B[38;5;241m.\u001B[39mappend(cost)\n\u001B[1;32m     74\u001B[0m     \u001B[38;5;28;01mif\u001B[39;00m cost \u001B[38;5;241m==\u001B[39m \u001B[38;5;241m0\u001B[39m:\n",
      "File \u001B[0;32m~/Git/nuclei/src/nuclei/anneal.py:119\u001B[0m, in \u001B[0;36mcompare_energies\u001B[0;34m(i, j, X, Y, loss_func, temp, verbose)\u001B[0m\n\u001B[1;32m    118\u001B[0m \u001B[38;5;28;01mdef\u001B[39;00m \u001B[38;5;21mcompare_energies\u001B[39m(i: Nucleus, j: Nucleus, X: \u001B[38;5;28mlist\u001B[39m, Y: \u001B[38;5;28mlist\u001B[39m, loss_func: Loss, temp: \u001B[38;5;28mfloat\u001B[39m, verbose\u001B[38;5;241m=\u001B[39m\u001B[38;5;28;01mFalse\u001B[39;00m):\n\u001B[0;32m--> 119\u001B[0m     l_i \u001B[38;5;241m=\u001B[39m \u001B[43mcalculate_loss\u001B[49m\u001B[43m(\u001B[49m\u001B[43mi\u001B[49m\u001B[43m,\u001B[49m\u001B[43m \u001B[49m\u001B[43mX\u001B[49m\u001B[43m,\u001B[49m\u001B[43m \u001B[49m\u001B[43mY\u001B[49m\u001B[43m,\u001B[49m\u001B[43m \u001B[49m\u001B[43mloss_func\u001B[49m\u001B[43m)\u001B[49m\n\u001B[1;32m    120\u001B[0m     l_j \u001B[38;5;241m=\u001B[39m calculate_loss(j, X, Y, loss_func)\n\u001B[1;32m    121\u001B[0m     prob \u001B[38;5;241m=\u001B[39m np\u001B[38;5;241m.\u001B[39mexp((l_j \u001B[38;5;241m-\u001B[39m l_i) \u001B[38;5;241m/\u001B[39m temp)\n",
      "File \u001B[0;32m~/Git/nuclei/src/nuclei/anneal.py:91\u001B[0m, in \u001B[0;36mcalculate_loss\u001B[0;34m(nucleus, X, Y, loss_func)\u001B[0m\n\u001B[1;32m     89\u001B[0m \u001B[38;5;28;01mdef\u001B[39;00m \u001B[38;5;21mcalculate_loss\u001B[39m(nucleus, X, Y, loss_func: Loss):\n\u001B[1;32m     90\u001B[0m     preds \u001B[38;5;241m=\u001B[39m forward(nucleus, X)\n\u001B[0;32m---> 91\u001B[0m     \u001B[38;5;28;01mreturn\u001B[39;00m \u001B[43mloss_func\u001B[49m\u001B[38;5;241;43m.\u001B[39;49m\u001B[43mfit\u001B[49m\u001B[43m(\u001B[49m\u001B[43mY\u001B[49m\u001B[43m,\u001B[49m\u001B[43m \u001B[49m\u001B[43mpreds\u001B[49m\u001B[43m)\u001B[49m\n",
      "File \u001B[0;32m~/Git/nuclei/src/nuclei/losses.py:56\u001B[0m, in \u001B[0;36mCrossEntropy.fit\u001B[0;34m(self, y, y_hat)\u001B[0m\n\u001B[1;32m     54\u001B[0m y \u001B[38;5;241m=\u001B[39m np\u001B[38;5;241m.\u001B[39marray(y)\n\u001B[1;32m     55\u001B[0m y_hat \u001B[38;5;241m=\u001B[39m np\u001B[38;5;241m.\u001B[39marray(y_hat)\n\u001B[0;32m---> 56\u001B[0m \u001B[38;5;28;01mreturn\u001B[39;00m \u001B[38;5;241m-\u001B[39mnp\u001B[38;5;241m.\u001B[39mmean(\u001B[43my\u001B[49m\u001B[43m \u001B[49m\u001B[38;5;241;43m*\u001B[39;49m\u001B[43m \u001B[49m\u001B[43mnp\u001B[49m\u001B[38;5;241;43m.\u001B[39;49m\u001B[43mlog\u001B[49m\u001B[43m(\u001B[49m\u001B[43my_hat\u001B[49m\u001B[43m)\u001B[49m \u001B[38;5;241m+\u001B[39m (\u001B[38;5;241m1\u001B[39m \u001B[38;5;241m-\u001B[39m y) \u001B[38;5;241m*\u001B[39m np\u001B[38;5;241m.\u001B[39mlog(\u001B[38;5;241m1\u001B[39m \u001B[38;5;241m-\u001B[39m y_hat))\n",
      "\u001B[0;31mValueError\u001B[0m: operands could not be broadcast together with shapes (4,) (4,10) "
     ]
    }
   ],
   "source": [
    "best, loss = anneal.stimulate(stimuli)\n",
    "pd.Series(loss).plot()"
   ],
   "metadata": {
    "collapsed": false,
    "pycharm": {
     "name": "#%%\n"
    }
   }
  },
  {
   "cell_type": "code",
   "execution_count": 180,
   "outputs": [
    {
     "data": {
      "text/plain": "[[2.07330483 1.78959218 9.46026262 1.11694127]\n [2.6742143  1.         1.58620997 1.89025289]\n [9.03062257 0.87988913 2.14891371 1.82663491]\n [1.41350674 0.52219728 2.29515633 1.        ]]"
     },
     "execution_count": 180,
     "metadata": {},
     "output_type": "execute_result"
    }
   ],
   "source": [
    "best"
   ],
   "metadata": {
    "collapsed": false,
    "pycharm": {
     "name": "#%%\n"
    }
   }
  },
  {
   "cell_type": "code",
   "execution_count": 181,
   "outputs": [
    {
     "data": {
      "text/plain": "(8.199158517105789e-10,\n 0.9999999990662376,\n 0.9999999991480444,\n 3.2900241751383415e-10)"
     },
     "execution_count": 181,
     "metadata": {},
     "output_type": "execute_result"
    }
   ],
   "source": [
    "best.project([0, 0]), best.project([0, 1]), best.project([1, 0]), best.project([1, 1])"
   ],
   "metadata": {
    "collapsed": false,
    "pycharm": {
     "name": "#%%\n"
    }
   }
  },
  {
   "cell_type": "code",
   "execution_count": null,
   "outputs": [],
   "source": [],
   "metadata": {
    "collapsed": false,
    "pycharm": {
     "name": "#%%\n"
    }
   }
  }
 ],
 "metadata": {
  "kernelspec": {
   "display_name": "Python 3",
   "language": "python",
   "name": "python3"
  },
  "language_info": {
   "codemirror_mode": {
    "name": "ipython",
    "version": 2
   },
   "file_extension": ".py",
   "mimetype": "text/x-python",
   "name": "python",
   "nbconvert_exporter": "python",
   "pygments_lexer": "ipython2",
   "version": "2.7.6"
  }
 },
 "nbformat": 4,
 "nbformat_minor": 0
}