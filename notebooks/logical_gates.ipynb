{
 "cells": [
  {
   "cell_type": "code",
   "execution_count": 65,
   "outputs": [],
   "source": [
    "%reload_ext autoreload\n",
    "%autoreload 2\n",
    "\n",
    "\n",
    "import pandas as pd\n",
    "from src.nuclei.anneal import BaseAnneal\n",
    "from src.nuclei.nucleus import BaseNucleus1B, BaseNucleus, LongNucleus\n",
    "from src.nuclei.losses import CrossEntropy, MAE\n",
    "from src.nuclei.activations import Sigmoid, Binary, Relu"
   ],
   "metadata": {
    "collapsed": false,
    "pycharm": {
     "name": "#%%\n"
    }
   }
  },
  {
   "cell_type": "code",
   "execution_count": 66,
   "outputs": [],
   "source": [
    "stimuli = {\n",
    "    'x': [[0, 0], [0, 1], [1, 0], [1, 1]],\n",
    "    # 'y': [0, 0, 0, 1]  # AND\n",
    "    # 'y': [0, 1, 1, 1]  # OR\n",
    "    'y': [0, 1, 1, 0]  # XOR,\n",
    "}\n",
    "\n",
    "# XOR [-2, -1, -1, 1, 9, 0, 1, 0, 9]\n",
    "# AND [1, 0, 0, 0, 9, 0, 0, 0, 9]\n",
    "# OR [0, -1, -1, 1, 9, 0, 1, 0, 9]"
   ],
   "metadata": {
    "collapsed": false,
    "pycharm": {
     "name": "#%%\n"
    }
   }
  },
  {
   "cell_type": "code",
   "execution_count": 67,
   "outputs": [],
   "source": [
    "n = LongNucleus(input_size=2, output_size=1, lr=0.5, activation=Sigmoid())\n",
    "temp = 2\n",
    "anneal = BaseAnneal(n, temp, steps=500, epochs=5, loss=CrossEntropy())"
   ],
   "metadata": {
    "collapsed": false,
    "pycharm": {
     "name": "#%%\n"
    }
   }
  },
  {
   "cell_type": "code",
   "execution_count": 68,
   "outputs": [
    {
     "ename": "IndexError",
     "evalue": "index 3 is out of bounds for axis 0 with size 1",
     "output_type": "error",
     "traceback": [
      "\u001B[0;31m---------------------------------------------------------------------------\u001B[0m",
      "\u001B[0;31mIndexError\u001B[0m                                Traceback (most recent call last)",
      "Cell \u001B[0;32mIn[68], line 1\u001B[0m\n\u001B[0;32m----> 1\u001B[0m best, loss \u001B[38;5;241m=\u001B[39m \u001B[43manneal\u001B[49m\u001B[38;5;241;43m.\u001B[39;49m\u001B[43mstimulate\u001B[49m\u001B[43m(\u001B[49m\u001B[43mstimuli\u001B[49m\u001B[43m)\u001B[49m\n\u001B[1;32m      2\u001B[0m pd\u001B[38;5;241m.\u001B[39mSeries(loss)\u001B[38;5;241m.\u001B[39mplot()\n",
      "File \u001B[0;32m~/Git/nuclei/src/nuclei/anneal.py:36\u001B[0m, in \u001B[0;36mBaseAnneal.stimulate\u001B[0;34m(self, stimuli, verbose)\u001B[0m\n\u001B[1;32m     35\u001B[0m \u001B[38;5;28;01mdef\u001B[39;00m \u001B[38;5;21mstimulate\u001B[39m(\u001B[38;5;28mself\u001B[39m, stimuli: \u001B[38;5;28mdict\u001B[39m, verbose\u001B[38;5;241m=\u001B[39m\u001B[38;5;28;01mFalse\u001B[39;00m) \u001B[38;5;241m-\u001B[39m\u001B[38;5;241m>\u001B[39m Tuple[Nucleus, List[\u001B[38;5;28mfloat\u001B[39m]]:\n\u001B[0;32m---> 36\u001B[0m     a \u001B[38;5;241m=\u001B[39m \u001B[43mgenerate_solution\u001B[49m\u001B[43m(\u001B[49m\u001B[38;5;28;43mself\u001B[39;49m\u001B[38;5;241;43m.\u001B[39;49m\u001B[43mnucleus\u001B[49m\u001B[43m)\u001B[49m\n\u001B[1;32m     37\u001B[0m     \u001B[38;5;66;03m# a = copy.deepcopy(self.nucleus)\u001B[39;00m\n\u001B[1;32m     38\u001B[0m     \u001B[38;5;66;03m# a.nucleus = np.zeros(self.nucleus.nucleus.shape)\u001B[39;00m\n\u001B[1;32m     39\u001B[0m     \u001B[38;5;66;03m# a.nucleus[0, 0] = 1\u001B[39;00m\n\u001B[1;32m     40\u001B[0m     best \u001B[38;5;241m=\u001B[39m a\n",
      "File \u001B[0;32m~/Git/nuclei/src/nuclei/anneal.py:77\u001B[0m, in \u001B[0;36mgenerate_solution\u001B[0;34m(nucleus)\u001B[0m\n\u001B[1;32m     75\u001B[0m random_i_j \u001B[38;5;241m=\u001B[39m rng\u001B[38;5;241m.\u001B[39mchoice(list_i_j, \u001B[38;5;241m3\u001B[39m)\n\u001B[1;32m     76\u001B[0m \u001B[38;5;28;01mfor\u001B[39;00m i, j \u001B[38;5;129;01min\u001B[39;00m random_i_j:\n\u001B[0;32m---> 77\u001B[0m     candidate\u001B[38;5;241m.\u001B[39mnucleus[i, j] \u001B[38;5;241m+\u001B[39m\u001B[38;5;241m=\u001B[39m jitter\n\u001B[1;32m     78\u001B[0m \u001B[38;5;28;01mreturn\u001B[39;00m candidate\n",
      "\u001B[0;31mIndexError\u001B[0m: index 3 is out of bounds for axis 0 with size 1"
     ]
    }
   ],
   "source": [
    "best, loss = anneal.stimulate(stimuli)\n",
    "pd.Series(loss).plot()"
   ],
   "metadata": {
    "collapsed": false,
    "pycharm": {
     "name": "#%%\n"
    }
   }
  },
  {
   "cell_type": "code",
   "execution_count": 61,
   "outputs": [
    {
     "data": {
      "text/plain": "[[ 0.99549327  0.74923935 13.18766846  0.82685633]\n [ 0.80049458  1.          6.66594886  0.50733232]\n [11.95520244  4.79779428  1.          4.11039937]\n [ 1.07756758  2.06924424  3.52225793  1.        ]]"
     },
     "execution_count": 61,
     "metadata": {},
     "output_type": "execute_result"
    }
   ],
   "source": [
    "best"
   ],
   "metadata": {
    "collapsed": false,
    "pycharm": {
     "name": "#%%\n"
    }
   }
  },
  {
   "cell_type": "code",
   "execution_count": 62,
   "outputs": [
    {
     "data": {
      "text/plain": "(1.098164224912672e-18,\n 0.9999999999999998,\n 0.9999999999999998,\n 3.942109394583283e-19)"
     },
     "execution_count": 62,
     "metadata": {},
     "output_type": "execute_result"
    }
   ],
   "source": [
    "best.project([0, 0]), best.project([0, 1]), best.project([1, 0]), best.project([1, 1])"
   ],
   "metadata": {
    "collapsed": false,
    "pycharm": {
     "name": "#%%\n"
    }
   }
  },
  {
   "cell_type": "code",
   "execution_count": null,
   "outputs": [],
   "source": [],
   "metadata": {
    "collapsed": false,
    "pycharm": {
     "name": "#%%\n"
    }
   }
  }
 ],
 "metadata": {
  "kernelspec": {
   "display_name": "Python 3",
   "language": "python",
   "name": "python3"
  },
  "language_info": {
   "codemirror_mode": {
    "name": "ipython",
    "version": 2
   },
   "file_extension": ".py",
   "mimetype": "text/x-python",
   "name": "python",
   "nbconvert_exporter": "python",
   "pygments_lexer": "ipython2",
   "version": "2.7.6"
  }
 },
 "nbformat": 4,
 "nbformat_minor": 0
}