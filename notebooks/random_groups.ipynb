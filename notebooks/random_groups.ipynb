{
 "cells": [
  {
   "cell_type": "code",
   "execution_count": 124,
   "metadata": {
    "collapsed": true
   },
   "outputs": [],
   "source": [
    "from sklearn.datasets import make_classification\n",
    "\n",
    "x, y = make_classification(n_samples=20, n_features=4,\n",
    "                    n_classes=3, n_clusters_per_class=1,\n",
    "                    random_state=42)\n",
    "stimuli = {'x': x, 'y': y}"
   ]
  },
  {
   "cell_type": "code",
   "execution_count": 136,
   "outputs": [],
   "source": [
    "%reload_ext autoreload\n",
    "%autoreload 2\n",
    "\n",
    "\n",
    "from src.nuclei.nucleus import LongNucleus\n",
    "from src.nuclei.activations import Sigmoid\n",
    "from src.nuclei.losses import CrossEntropy\n",
    "from src.nuclei.anneal import LongAnneal"
   ],
   "metadata": {
    "collapsed": false,
    "pycharm": {
     "name": "#%%\n"
    }
   }
  },
  {
   "cell_type": "code",
   "execution_count": 147,
   "outputs": [],
   "source": [
    "n = LongNucleus(input_size=4, output_size=2, activation=Sigmoid(), lr=0.005)\n",
    "anneal = LongAnneal(n, temp=2, loss_func=CrossEntropy(), steps=500, epochs=50)"
   ],
   "metadata": {
    "collapsed": false,
    "pycharm": {
     "name": "#%%\n"
    }
   }
  },
  {
   "cell_type": "code",
   "execution_count": 148,
   "outputs": [
    {
     "name": "stdout",
     "output_type": "stream",
     "text": [
      "Epoch: 1\n"
     ]
    },
    {
     "name": "stderr",
     "output_type": "stream",
     "text": [
      "training in epoch 1: 100%|██████████| 500/500 [00:00<00:00, 589.83it/s]\n"
     ]
    },
    {
     "name": "stdout",
     "output_type": "stream",
     "text": [
      "Epoch 1 validation error: 0.6930113934963297\n",
      "Epoch training loss: 0.6931067996532094\n",
      "Epoch: 2\n"
     ]
    },
    {
     "name": "stderr",
     "output_type": "stream",
     "text": [
      "training in epoch 2: 100%|██████████| 500/500 [00:00<00:00, 571.78it/s]\n"
     ]
    },
    {
     "name": "stdout",
     "output_type": "stream",
     "text": [
      "Epoch 2 validation error: 0.6916963938721868\n",
      "Epoch training loss: 0.6922735496247874\n",
      "Epoch: 3\n"
     ]
    },
    {
     "name": "stderr",
     "output_type": "stream",
     "text": [
      "training in epoch 3: 100%|██████████| 500/500 [00:00<00:00, 629.95it/s]\n"
     ]
    },
    {
     "name": "stdout",
     "output_type": "stream",
     "text": [
      "Epoch 3 validation error: 0.6864967080958163\n",
      "Epoch training loss: 0.6886307652909447\n",
      "Epoch: 4\n"
     ]
    },
    {
     "name": "stderr",
     "output_type": "stream",
     "text": [
      "training in epoch 4: 100%|██████████| 500/500 [00:00<00:00, 641.08it/s]\n"
     ]
    },
    {
     "name": "stdout",
     "output_type": "stream",
     "text": [
      "Epoch 4 validation error: 0.6788060437244923\n",
      "Epoch training loss: 0.6811130615961352\n",
      "Epoch: 5\n"
     ]
    },
    {
     "name": "stderr",
     "output_type": "stream",
     "text": [
      "training in epoch 5: 100%|██████████| 500/500 [00:00<00:00, 643.11it/s]\n"
     ]
    },
    {
     "name": "stdout",
     "output_type": "stream",
     "text": [
      "Epoch 5 validation error: 0.6677277928834404\n",
      "Epoch training loss: 0.6680106289447849\n",
      "Epoch: 6\n"
     ]
    },
    {
     "name": "stderr",
     "output_type": "stream",
     "text": [
      "training in epoch 6: 100%|██████████| 500/500 [00:00<00:00, 588.08it/s]\n"
     ]
    },
    {
     "name": "stdout",
     "output_type": "stream",
     "text": [
      "Epoch 6 validation error: 0.6551080948072247\n",
      "Epoch training loss: 0.6498033164751748\n",
      "Epoch: 7\n"
     ]
    },
    {
     "name": "stderr",
     "output_type": "stream",
     "text": [
      "training in epoch 7: 100%|██████████| 500/500 [00:01<00:00, 415.73it/s]\n"
     ]
    },
    {
     "name": "stdout",
     "output_type": "stream",
     "text": [
      "Epoch 7 validation error: 0.6469682926911865\n",
      "Epoch training loss: 0.6308629557247957\n",
      "Epoch: 8\n"
     ]
    },
    {
     "name": "stderr",
     "output_type": "stream",
     "text": [
      "training in epoch 8: 100%|██████████| 500/500 [00:00<00:00, 529.82it/s]\n"
     ]
    },
    {
     "name": "stdout",
     "output_type": "stream",
     "text": [
      "Epoch 8 validation error: 0.6437272268461215\n",
      "Epoch training loss: 0.6115993144953277\n",
      "Epoch: 9\n"
     ]
    },
    {
     "name": "stderr",
     "output_type": "stream",
     "text": [
      "training in epoch 9: 100%|██████████| 500/500 [00:00<00:00, 515.61it/s]\n"
     ]
    },
    {
     "name": "stdout",
     "output_type": "stream",
     "text": [
      "Epoch 9 validation error: 0.644619440267286\n",
      "Epoch training loss: 0.5893604986506754\n",
      "Epoch: 10\n"
     ]
    },
    {
     "name": "stderr",
     "output_type": "stream",
     "text": [
      "training in epoch 10: 100%|██████████| 500/500 [00:00<00:00, 615.69it/s]\n"
     ]
    },
    {
     "name": "stdout",
     "output_type": "stream",
     "text": [
      "Epoch 10 validation error: 0.6622258619192788\n",
      "Epoch training loss: 0.5649144702595372\n",
      "Epoch: 11\n"
     ]
    },
    {
     "name": "stderr",
     "output_type": "stream",
     "text": [
      "training in epoch 11: 100%|██████████| 500/500 [00:00<00:00, 633.20it/s]\n"
     ]
    },
    {
     "name": "stdout",
     "output_type": "stream",
     "text": [
      "Epoch 11 validation error: 0.6943840227434942\n",
      "Epoch training loss: 0.535439871670198\n",
      "Epoch: 12\n"
     ]
    },
    {
     "name": "stderr",
     "output_type": "stream",
     "text": [
      "training in epoch 12: 100%|██████████| 500/500 [00:00<00:00, 654.80it/s]\n"
     ]
    },
    {
     "name": "stdout",
     "output_type": "stream",
     "text": [
      "Epoch 12 validation error: 0.7432516419490408\n",
      "Epoch training loss: 0.5063666619080199\n",
      "Epoch: 13\n"
     ]
    },
    {
     "name": "stderr",
     "output_type": "stream",
     "text": [
      "training in epoch 13: 100%|██████████| 500/500 [00:00<00:00, 688.66it/s]\n"
     ]
    },
    {
     "name": "stdout",
     "output_type": "stream",
     "text": [
      "Epoch 13 validation error: 0.8036368587000174\n",
      "Epoch training loss: 0.4734620197323038\n",
      "Epoch: 14\n"
     ]
    },
    {
     "name": "stderr",
     "output_type": "stream",
     "text": [
      "training in epoch 14: 100%|██████████| 500/500 [00:00<00:00, 725.62it/s]\n"
     ]
    },
    {
     "name": "stdout",
     "output_type": "stream",
     "text": [
      "Epoch 14 validation error: 0.8610966796310745\n",
      "Epoch training loss: 0.4434822654656416\n",
      "Epoch: 15\n"
     ]
    },
    {
     "name": "stderr",
     "output_type": "stream",
     "text": [
      "training in epoch 15: 100%|██████████| 500/500 [00:00<00:00, 682.66it/s]\n"
     ]
    },
    {
     "name": "stdout",
     "output_type": "stream",
     "text": [
      "Epoch 15 validation error: 0.9620016785438024\n",
      "Epoch training loss: 0.4069712292799163\n",
      "Epoch: 16\n"
     ]
    },
    {
     "name": "stderr",
     "output_type": "stream",
     "text": [
      "training in epoch 16: 100%|██████████| 500/500 [00:00<00:00, 695.43it/s]\n"
     ]
    },
    {
     "name": "stdout",
     "output_type": "stream",
     "text": [
      "Epoch 16 validation error: 1.0621025413923835\n",
      "Epoch training loss: 0.3669183413865194\n",
      "Epoch: 17\n"
     ]
    },
    {
     "name": "stderr",
     "output_type": "stream",
     "text": [
      "training in epoch 17: 100%|██████████| 500/500 [00:00<00:00, 678.50it/s]\n"
     ]
    },
    {
     "name": "stdout",
     "output_type": "stream",
     "text": [
      "Epoch 17 validation error: 1.183749804250979\n",
      "Epoch training loss: 0.3307496767229667\n",
      "Epoch: 18\n"
     ]
    },
    {
     "name": "stderr",
     "output_type": "stream",
     "text": [
      "training in epoch 18: 100%|██████████| 500/500 [00:00<00:00, 676.13it/s]\n"
     ]
    },
    {
     "name": "stdout",
     "output_type": "stream",
     "text": [
      "Epoch 18 validation error: 1.303057497117771\n",
      "Epoch training loss: 0.301607972881566\n",
      "Epoch: 19\n"
     ]
    },
    {
     "name": "stderr",
     "output_type": "stream",
     "text": [
      "training in epoch 19: 100%|██████████| 500/500 [00:00<00:00, 680.97it/s]\n"
     ]
    },
    {
     "name": "stdout",
     "output_type": "stream",
     "text": [
      "Epoch 19 validation error: 1.4444959408907074\n",
      "Epoch training loss: 0.2749637354508412\n",
      "Epoch: 20\n"
     ]
    },
    {
     "name": "stderr",
     "output_type": "stream",
     "text": [
      "training in epoch 20: 100%|██████████| 500/500 [00:00<00:00, 671.57it/s]\n"
     ]
    },
    {
     "name": "stdout",
     "output_type": "stream",
     "text": [
      "Epoch 20 validation error: 1.5870952059164132\n",
      "Epoch training loss: 0.2515371587416509\n",
      "Epoch: 21\n"
     ]
    },
    {
     "name": "stderr",
     "output_type": "stream",
     "text": [
      "training in epoch 21: 100%|██████████| 500/500 [00:00<00:00, 664.67it/s]\n"
     ]
    },
    {
     "name": "stdout",
     "output_type": "stream",
     "text": [
      "Epoch 21 validation error: 1.7514825809349264\n",
      "Epoch training loss: 0.23176627465118263\n",
      "Epoch: 22\n"
     ]
    },
    {
     "name": "stderr",
     "output_type": "stream",
     "text": [
      "training in epoch 22: 100%|██████████| 500/500 [00:00<00:00, 621.57it/s]\n"
     ]
    },
    {
     "name": "stdout",
     "output_type": "stream",
     "text": [
      "Epoch 22 validation error: 1.9523485740132083\n",
      "Epoch training loss: 0.21748924680535814\n",
      "Epoch: 23\n"
     ]
    },
    {
     "name": "stderr",
     "output_type": "stream",
     "text": [
      "training in epoch 23: 100%|██████████| 500/500 [00:00<00:00, 612.92it/s]\n"
     ]
    },
    {
     "name": "stdout",
     "output_type": "stream",
     "text": [
      "Epoch 23 validation error: 2.0338960448400725\n",
      "Epoch training loss: 0.20809895340030857\n",
      "Epoch: 24\n"
     ]
    },
    {
     "name": "stderr",
     "output_type": "stream",
     "text": [
      "training in epoch 24: 100%|██████████| 500/500 [00:00<00:00, 662.63it/s]\n"
     ]
    },
    {
     "name": "stdout",
     "output_type": "stream",
     "text": [
      "Epoch 24 validation error: 2.0551972124348503\n",
      "Epoch training loss: 0.20444641406085629\n",
      "Epoch: 25\n"
     ]
    },
    {
     "name": "stderr",
     "output_type": "stream",
     "text": [
      "training in epoch 25: 100%|██████████| 500/500 [00:00<00:00, 686.63it/s]\n"
     ]
    },
    {
     "name": "stdout",
     "output_type": "stream",
     "text": [
      "Epoch 25 validation error: 2.1470711154004545\n",
      "Epoch training loss: 0.20101605645304313\n",
      "Epoch: 26\n"
     ]
    },
    {
     "name": "stderr",
     "output_type": "stream",
     "text": [
      "training in epoch 26: 100%|██████████| 500/500 [00:00<00:00, 653.92it/s]\n"
     ]
    },
    {
     "name": "stdout",
     "output_type": "stream",
     "text": [
      "Epoch 26 validation error: 2.169513470532285\n",
      "Epoch training loss: 0.19750663376770497\n",
      "Epoch: 27\n"
     ]
    },
    {
     "name": "stderr",
     "output_type": "stream",
     "text": [
      "training in epoch 27: 100%|██████████| 500/500 [00:00<00:00, 672.87it/s]\n"
     ]
    },
    {
     "name": "stdout",
     "output_type": "stream",
     "text": [
      "Epoch 27 validation error: 2.1666552114778193\n",
      "Epoch training loss: 0.19393827477241324\n",
      "Epoch: 28\n"
     ]
    },
    {
     "name": "stderr",
     "output_type": "stream",
     "text": [
      "training in epoch 28: 100%|██████████| 500/500 [00:00<00:00, 717.99it/s]\n"
     ]
    },
    {
     "name": "stdout",
     "output_type": "stream",
     "text": [
      "Epoch 28 validation error: 2.1496352914536665\n",
      "Epoch training loss: 0.18995945171383782\n",
      "Epoch: 29\n"
     ]
    },
    {
     "name": "stderr",
     "output_type": "stream",
     "text": [
      "training in epoch 29: 100%|██████████| 500/500 [00:00<00:00, 739.84it/s]\n"
     ]
    },
    {
     "name": "stdout",
     "output_type": "stream",
     "text": [
      "Epoch 29 validation error: 2.1776093205557108\n",
      "Epoch training loss: 0.18533419616419056\n",
      "Epoch: 30\n"
     ]
    },
    {
     "name": "stderr",
     "output_type": "stream",
     "text": [
      "training in epoch 30: 100%|██████████| 500/500 [00:00<00:00, 639.78it/s]\n"
     ]
    },
    {
     "name": "stdout",
     "output_type": "stream",
     "text": [
      "Epoch 30 validation error: 2.201882974497901\n",
      "Epoch training loss: 0.1789300949025992\n",
      "Epoch: 31\n"
     ]
    },
    {
     "name": "stderr",
     "output_type": "stream",
     "text": [
      "training in epoch 31: 100%|██████████| 500/500 [00:00<00:00, 648.34it/s]\n"
     ]
    },
    {
     "name": "stdout",
     "output_type": "stream",
     "text": [
      "Epoch 31 validation error: 2.1852018893394454\n",
      "Epoch training loss: 0.17325000185303202\n",
      "Epoch: 32\n"
     ]
    },
    {
     "name": "stderr",
     "output_type": "stream",
     "text": [
      "training in epoch 32: 100%|██████████| 500/500 [00:00<00:00, 641.18it/s]\n"
     ]
    },
    {
     "name": "stdout",
     "output_type": "stream",
     "text": [
      "Epoch 32 validation error: 2.1312505735196168\n",
      "Epoch training loss: 0.16874343582948303\n",
      "Epoch: 33\n"
     ]
    },
    {
     "name": "stderr",
     "output_type": "stream",
     "text": [
      "training in epoch 33: 100%|██████████| 500/500 [00:00<00:00, 647.09it/s]\n"
     ]
    },
    {
     "name": "stdout",
     "output_type": "stream",
     "text": [
      "Epoch 33 validation error: 2.099300187289811\n",
      "Epoch training loss: 0.1651308023066718\n",
      "Epoch: 34\n"
     ]
    },
    {
     "name": "stderr",
     "output_type": "stream",
     "text": [
      "training in epoch 34: 100%|██████████| 500/500 [00:00<00:00, 641.32it/s]\n"
     ]
    },
    {
     "name": "stdout",
     "output_type": "stream",
     "text": [
      "Epoch 34 validation error: 2.1605551964131746\n",
      "Epoch training loss: 0.16150964674068558\n",
      "Epoch: 35\n"
     ]
    },
    {
     "name": "stderr",
     "output_type": "stream",
     "text": [
      "training in epoch 35: 100%|██████████| 500/500 [00:00<00:00, 703.14it/s]\n"
     ]
    },
    {
     "name": "stdout",
     "output_type": "stream",
     "text": [
      "Epoch 35 validation error: 2.2363338456552597\n",
      "Epoch training loss: 0.1577264705842767\n",
      "Epoch: 36\n"
     ]
    },
    {
     "name": "stderr",
     "output_type": "stream",
     "text": [
      "training in epoch 36: 100%|██████████| 500/500 [00:00<00:00, 671.30it/s]\n"
     ]
    },
    {
     "name": "stdout",
     "output_type": "stream",
     "text": [
      "Epoch 36 validation error: 2.281039864629878\n",
      "Epoch training loss: 0.15341759447038328\n",
      "Epoch: 37\n"
     ]
    },
    {
     "name": "stderr",
     "output_type": "stream",
     "text": [
      "training in epoch 37: 100%|██████████| 500/500 [00:00<00:00, 658.94it/s]\n"
     ]
    },
    {
     "name": "stdout",
     "output_type": "stream",
     "text": [
      "Epoch 37 validation error: 2.2611051445639467\n",
      "Epoch training loss: 0.14929694961385495\n",
      "Epoch: 38\n"
     ]
    },
    {
     "name": "stderr",
     "output_type": "stream",
     "text": [
      "training in epoch 38: 100%|██████████| 500/500 [00:00<00:00, 619.19it/s]\n"
     ]
    },
    {
     "name": "stdout",
     "output_type": "stream",
     "text": [
      "Epoch 38 validation error: 2.296649080835036\n",
      "Epoch training loss: 0.1452217189778324\n",
      "Epoch: 39\n"
     ]
    },
    {
     "name": "stderr",
     "output_type": "stream",
     "text": [
      "training in epoch 39: 100%|██████████| 500/500 [00:00<00:00, 662.70it/s]\n"
     ]
    },
    {
     "name": "stdout",
     "output_type": "stream",
     "text": [
      "Epoch 39 validation error: 2.3309656981258753\n",
      "Epoch training loss: 0.14088041780851426\n",
      "Epoch: 40\n"
     ]
    },
    {
     "name": "stderr",
     "output_type": "stream",
     "text": [
      "training in epoch 40: 100%|██████████| 500/500 [00:00<00:00, 668.11it/s]\n"
     ]
    },
    {
     "name": "stdout",
     "output_type": "stream",
     "text": [
      "Epoch 40 validation error: 2.4069052547077048\n",
      "Epoch training loss: 0.1361337076522123\n",
      "Epoch: 41\n"
     ]
    },
    {
     "name": "stderr",
     "output_type": "stream",
     "text": [
      "training in epoch 41: 100%|██████████| 500/500 [00:00<00:00, 623.83it/s]\n"
     ]
    },
    {
     "name": "stdout",
     "output_type": "stream",
     "text": [
      "Epoch 41 validation error: 2.4780981851780077\n",
      "Epoch training loss: 0.13042845771597975\n",
      "Epoch: 42\n"
     ]
    },
    {
     "name": "stderr",
     "output_type": "stream",
     "text": [
      "training in epoch 42: 100%|██████████| 500/500 [00:00<00:00, 605.95it/s]\n"
     ]
    },
    {
     "name": "stdout",
     "output_type": "stream",
     "text": [
      "Epoch 42 validation error: 2.4377457292133187\n",
      "Epoch training loss: 0.1258192006705076\n",
      "Epoch: 43\n"
     ]
    },
    {
     "name": "stderr",
     "output_type": "stream",
     "text": [
      "training in epoch 43: 100%|██████████| 500/500 [00:00<00:00, 611.56it/s]\n"
     ]
    },
    {
     "name": "stdout",
     "output_type": "stream",
     "text": [
      "Epoch 43 validation error: 2.5358910740895477\n",
      "Epoch training loss: 0.12131303044735685\n",
      "Epoch: 44\n"
     ]
    },
    {
     "name": "stderr",
     "output_type": "stream",
     "text": [
      "training in epoch 44: 100%|██████████| 500/500 [00:00<00:00, 629.55it/s]\n"
     ]
    },
    {
     "name": "stdout",
     "output_type": "stream",
     "text": [
      "Epoch 44 validation error: 2.543343695907689\n",
      "Epoch training loss: 0.1167160962614177\n",
      "Epoch: 45\n"
     ]
    },
    {
     "name": "stderr",
     "output_type": "stream",
     "text": [
      "training in epoch 45: 100%|██████████| 500/500 [00:00<00:00, 624.20it/s]\n"
     ]
    },
    {
     "name": "stdout",
     "output_type": "stream",
     "text": [
      "Epoch 45 validation error: 2.7543609843753942\n",
      "Epoch training loss: 0.11167917228959953\n",
      "Epoch: 46\n"
     ]
    },
    {
     "name": "stderr",
     "output_type": "stream",
     "text": [
      "training in epoch 46: 100%|██████████| 500/500 [00:00<00:00, 675.08it/s]\n"
     ]
    },
    {
     "name": "stdout",
     "output_type": "stream",
     "text": [
      "Epoch 46 validation error: 2.5678294167633435\n",
      "Epoch training loss: 0.10656229360740921\n",
      "Epoch: 47\n"
     ]
    },
    {
     "name": "stderr",
     "output_type": "stream",
     "text": [
      "training in epoch 47: 100%|██████████| 500/500 [00:00<00:00, 670.59it/s]\n"
     ]
    },
    {
     "name": "stdout",
     "output_type": "stream",
     "text": [
      "Epoch 47 validation error: 2.6689583751474175\n",
      "Epoch training loss: 0.1009998882135057\n",
      "Epoch: 48\n"
     ]
    },
    {
     "name": "stderr",
     "output_type": "stream",
     "text": [
      "training in epoch 48: 100%|██████████| 500/500 [00:00<00:00, 671.64it/s]\n"
     ]
    },
    {
     "name": "stdout",
     "output_type": "stream",
     "text": [
      "Epoch 48 validation error: 2.62455952083694\n",
      "Epoch training loss: 0.09519371215387087\n",
      "Epoch: 49\n"
     ]
    },
    {
     "name": "stderr",
     "output_type": "stream",
     "text": [
      "training in epoch 49: 100%|██████████| 500/500 [00:00<00:00, 705.27it/s]\n"
     ]
    },
    {
     "name": "stdout",
     "output_type": "stream",
     "text": [
      "Epoch 49 validation error: 2.657699833198244\n",
      "Epoch training loss: 0.08779359181763911\n",
      "Epoch: 50\n"
     ]
    },
    {
     "name": "stderr",
     "output_type": "stream",
     "text": [
      "training in epoch 50: 100%|██████████| 500/500 [00:00<00:00, 683.06it/s]"
     ]
    },
    {
     "name": "stdout",
     "output_type": "stream",
     "text": [
      "Epoch 50 validation error: 2.8678682838614598\n",
      "Epoch training loss: 0.08175353567323873\n"
     ]
    },
    {
     "name": "stderr",
     "output_type": "stream",
     "text": [
      "\n"
     ]
    },
    {
     "data": {
      "text/plain": "<Axes: >"
     },
     "execution_count": 148,
     "metadata": {},
     "output_type": "execute_result"
    },
    {
     "data": {
      "text/plain": "<Figure size 640x480 with 1 Axes>",
      "image/png": "[encoded data removed]"
     },
     "metadata": {},
     "output_type": "display_data"
    }
   ],
   "source": [
    "import pandas as pd\n",
    "\n",
    "best, loss, val = anneal.stimulate(stimuli, validate=True)\n",
    "pd.DataFrame(val).plot()"
   ],
   "metadata": {
    "collapsed": false,
    "pycharm": {
     "name": "#%%\n"
    }
   }
  },
  {
   "cell_type": "code",
   "execution_count": null,
   "outputs": [],
   "source": [],
   "metadata": {
    "collapsed": false,
    "pycharm": {
     "name": "#%%\n"
    }
   }
  }
 ],
 "metadata": {
  "kernelspec": {
   "display_name": "Python 3",
   "language": "python",
   "name": "python3"
  },
  "language_info": {
   "codemirror_mode": {
    "name": "ipython",
    "version": 2
   },
   "file_extension": ".py",
   "mimetype": "text/x-python",
   "name": "python",
   "nbconvert_exporter": "python",
   "pygments_lexer": "ipython2",
   "version": "2.7.6"
  }
 },
 "nbformat": 4,
 "nbformat_minor": 0
}