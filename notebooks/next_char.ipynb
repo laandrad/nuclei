{
 "cells": [
  {
   "cell_type": "code",
   "execution_count": 1,
   "outputs": [],
   "source": [
    "import numpy as np\n",
    "\n",
    "class Embed:\n",
    "    def __init__(self, vocab):\n",
    "        self.vocab = vocab\n",
    "        self.n = len(vocab)\n",
    "        self.char2id = {c: i for i, c in enumerate(vocab)}\n",
    "        self.id2char = {i: c for i, c in enumerate(vocab)}\n",
    "\n",
    "    def one_hot(self, char_seq):\n",
    "        emb_mat = np.zeros((len(char_seq), self.n))\n",
    "        for i, char in enumerate(char_seq):\n",
    "            emb_mat[i] = self._one_hot(char)\n",
    "        return emb_mat\n",
    "\n",
    "    def _one_hot(self, char):\n",
    "        vec = np.zeros(self.n)\n",
    "        if char in self.vocab:\n",
    "            vec[self.char2id[char]] = 2\n",
    "        return vec.tolist()\n",
    "\n",
    "\n",
    "chars = list('aeiou')\n",
    "emb = Embed(chars)"
   ],
   "metadata": {
    "collapsed": false,
    "pycharm": {
     "name": "#%%\n"
    }
   }
  },
  {
   "cell_type": "code",
   "execution_count": 2,
   "outputs": [],
   "source": [
    "%reload_ext autoreload\n",
    "%autoreload 2\n",
    "\n",
    "\n",
    "import pandas as pd\n",
    "from src.nuclei.anneal import Anneal\n",
    "from src.nuclei.nucleus import Nucleus"
   ],
   "metadata": {
    "collapsed": false,
    "pycharm": {
     "name": "#%%\n"
    }
   }
  },
  {
   "cell_type": "code",
   "execution_count": 21,
   "outputs": [
    {
     "data": {
      "text/plain": "array([[2., 0., 0.],\n       [0., 2., 0.],\n       [0., 0., 2.]])"
     },
     "execution_count": 21,
     "metadata": {},
     "output_type": "execute_result"
    }
   ],
   "source": [
    "stimuli = {\n",
    "    'x': emb.one_hot(chars),\n",
    "    'y': [0, 0, 2]\n",
    "}\n",
    "\n",
    "stimuli['x']"
   ],
   "metadata": {
    "collapsed": false,
    "pycharm": {
     "name": "#%%\n"
    }
   }
  },
  {
   "cell_type": "code",
   "execution_count": 22,
   "outputs": [],
   "source": [
    "input_size = len(stimuli['x'])\n",
    "n = Nucleus(input_size)\n",
    "temp = input_size\n",
    "anneal = Anneal(n, temp, steps=100, epochs=5)"
   ],
   "metadata": {
    "collapsed": false,
    "pycharm": {
     "name": "#%%\n"
    }
   }
  },
  {
   "cell_type": "code",
   "execution_count": 23,
   "outputs": [
    {
     "data": {
      "text/plain": "<Axes: >"
     },
     "execution_count": 23,
     "metadata": {},
     "output_type": "execute_result"
    },
    {
     "data": {
      "text/plain": "<Figure size 640x480 with 1 Axes>",
      "image/png": "[encoded data removed]"
     },
     "metadata": {},
     "output_type": "display_data"
    }
   ],
   "source": [
    "best, loss = anneal.stimulate(stimuli)\n",
    "pd.Series(loss).plot()"
   ],
   "metadata": {
    "collapsed": false,
    "pycharm": {
     "name": "#%%\n"
    }
   }
  },
  {
   "cell_type": "code",
   "execution_count": 24,
   "outputs": [
    {
     "data": {
      "text/plain": "[[1.         1.         1.         1.         1.         1.00000258]\n [1.         0.         1.         1.         1.         1.        ]\n [1.         1.00000516 1.         1.         1.         1.        ]\n [1.         1.         1.         0.         1.         1.        ]\n [1.         1.         0.99999955 1.         1.         1.        ]\n [0.99999955 1.         1.         0.99999955 1.         2.        ]]"
     },
     "execution_count": 24,
     "metadata": {},
     "output_type": "execute_result"
    }
   ],
   "source": [
    "best"
   ],
   "metadata": {
    "collapsed": false,
    "pycharm": {
     "name": "#%%\n"
    }
   }
  },
  {
   "cell_type": "code",
   "execution_count": 25,
   "outputs": [
    {
     "data": {
      "text/plain": "(0, 0, 2)"
     },
     "execution_count": 25,
     "metadata": {},
     "output_type": "execute_result"
    }
   ],
   "source": [
    "best.project(emb.one_hot('a')[0]), best.project(emb.one_hot('e')[0]), best.project(emb.one_hot('i')[0])"
   ],
   "metadata": {
    "collapsed": false,
    "pycharm": {
     "name": "#%%\n"
    }
   }
  },
  {
   "cell_type": "code",
   "execution_count": 7,
   "outputs": [],
   "source": [],
   "metadata": {
    "collapsed": false,
    "pycharm": {
     "name": "#%%\n"
    }
   }
  }
 ],
 "metadata": {
  "kernelspec": {
   "display_name": "Python 3",
   "language": "python",
   "name": "python3"
  },
  "language_info": {
   "codemirror_mode": {
    "name": "ipython",
    "version": 2
   },
   "file_extension": ".py",
   "mimetype": "text/x-python",
   "name": "python",
   "nbconvert_exporter": "python",
   "pygments_lexer": "ipython2",
   "version": "2.7.6"
  }
 },
 "nbformat": 4,
 "nbformat_minor": 0
}